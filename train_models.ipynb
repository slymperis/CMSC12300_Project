{
 "cells": [
  {
   "cell_type": "code",
   "execution_count": 18,
   "metadata": {},
   "outputs": [],
   "source": [
    "import pandas as pd\n",
    "import numpy as np\n",
    "from sklearn.neighbors import KNeighborsClassifier\n",
    "import gc\n",
    "import pickle"
   ]
  },
  {
   "cell_type": "code",
   "execution_count": 69,
   "metadata": {},
   "outputs": [
    {
     "ename": "KeyboardInterrupt",
     "evalue": "",
     "output_type": "error",
     "traceback": [
      "\u001b[0;31m---------------------------------------------------------------------------\u001b[0m",
      "\u001b[0;31mKeyboardInterrupt\u001b[0m                         Traceback (most recent call last)",
      "\u001b[1;32m/home/henry/work/school/cmsc12300/project/train_models.ipynb Cell 2'\u001b[0m in \u001b[0;36m<cell line: 1>\u001b[0;34m()\u001b[0m\n\u001b[0;32m----> <a href='vscode-notebook-cell:/home/henry/work/school/cmsc12300/project/train_models.ipynb#ch0000001?line=0'>1</a>\u001b[0m training_sample \u001b[39m=\u001b[39m pd\u001b[39m.\u001b[39;49mread_csv(\u001b[39m\"\u001b[39;49m\u001b[39mdata_1.csv\u001b[39;49m\u001b[39m\"\u001b[39;49m)[[\u001b[39m\"\u001b[39m\u001b[39mvendorid\u001b[39m\u001b[39m\"\u001b[39m, \u001b[39m\"\u001b[39m\u001b[39mpassenger_count\u001b[39m\u001b[39m\"\u001b[39m,\u001b[39m\"\u001b[39m\u001b[39mtrip_distance\u001b[39m\u001b[39m\"\u001b[39m, \u001b[39m\"\u001b[39m\u001b[39mratecodeid\u001b[39m\u001b[39m\"\u001b[39m, \u001b[39m\"\u001b[39m\u001b[39mpulocationid\u001b[39m\u001b[39m\"\u001b[39m, \u001b[39m\"\u001b[39m\u001b[39mdolocationid\u001b[39m\u001b[39m\"\u001b[39m, \u001b[39m\"\u001b[39m\u001b[39mfare_amount\u001b[39m\u001b[39m\"\u001b[39m, \u001b[39m\"\u001b[39m\u001b[39mextra\u001b[39m\u001b[39m\"\u001b[39m, \u001b[39m\"\u001b[39m\u001b[39mmta_tax\u001b[39m\u001b[39m\"\u001b[39m,\u001b[39m\"\u001b[39m\u001b[39mtip_amount\u001b[39m\u001b[39m\"\u001b[39m, \u001b[39m\"\u001b[39m\u001b[39mtolls_amount\u001b[39m\u001b[39m\"\u001b[39m, \u001b[39m\"\u001b[39m\u001b[39mimprovement_surcharge\u001b[39m\u001b[39m\"\u001b[39m, \u001b[39m\"\u001b[39m\u001b[39mtotal_amount\u001b[39m\u001b[39m\"\u001b[39m, \u001b[39m\"\u001b[39m\u001b[39mpayment_type\u001b[39m\u001b[39m\"\u001b[39m]]\u001b[39m.\u001b[39msample(frac\u001b[39m=\u001b[39m\u001b[39m1\u001b[39m)\n\u001b[1;32m      <a href='vscode-notebook-cell:/home/henry/work/school/cmsc12300/project/train_models.ipynb#ch0000001?line=1'>2</a>\u001b[0m payment \u001b[39m=\u001b[39m training_sample\u001b[39m.\u001b[39mpop(\u001b[39m\"\u001b[39m\u001b[39mpayment_type\u001b[39m\u001b[39m\"\u001b[39m)\n\u001b[1;32m      <a href='vscode-notebook-cell:/home/henry/work/school/cmsc12300/project/train_models.ipynb#ch0000001?line=2'>3</a>\u001b[0m means \u001b[39m=\u001b[39m np\u001b[39m.\u001b[39mmean(training_sample\u001b[39m.\u001b[39mvalues, axis\u001b[39m=\u001b[39m\u001b[39m0\u001b[39m)\n",
      "File \u001b[0;32m~/.local/lib/python3.10/site-packages/pandas/util/_decorators.py:311\u001b[0m, in \u001b[0;36mdeprecate_nonkeyword_arguments.<locals>.decorate.<locals>.wrapper\u001b[0;34m(*args, **kwargs)\u001b[0m\n\u001b[1;32m    <a href='file:///home/henry/.local/lib/python3.10/site-packages/pandas/util/_decorators.py?line=304'>305</a>\u001b[0m \u001b[39mif\u001b[39;00m \u001b[39mlen\u001b[39m(args) \u001b[39m>\u001b[39m num_allow_args:\n\u001b[1;32m    <a href='file:///home/henry/.local/lib/python3.10/site-packages/pandas/util/_decorators.py?line=305'>306</a>\u001b[0m     warnings\u001b[39m.\u001b[39mwarn(\n\u001b[1;32m    <a href='file:///home/henry/.local/lib/python3.10/site-packages/pandas/util/_decorators.py?line=306'>307</a>\u001b[0m         msg\u001b[39m.\u001b[39mformat(arguments\u001b[39m=\u001b[39marguments),\n\u001b[1;32m    <a href='file:///home/henry/.local/lib/python3.10/site-packages/pandas/util/_decorators.py?line=307'>308</a>\u001b[0m         \u001b[39mFutureWarning\u001b[39;00m,\n\u001b[1;32m    <a href='file:///home/henry/.local/lib/python3.10/site-packages/pandas/util/_decorators.py?line=308'>309</a>\u001b[0m         stacklevel\u001b[39m=\u001b[39mstacklevel,\n\u001b[1;32m    <a href='file:///home/henry/.local/lib/python3.10/site-packages/pandas/util/_decorators.py?line=309'>310</a>\u001b[0m     )\n\u001b[0;32m--> <a href='file:///home/henry/.local/lib/python3.10/site-packages/pandas/util/_decorators.py?line=310'>311</a>\u001b[0m \u001b[39mreturn\u001b[39;00m func(\u001b[39m*\u001b[39;49margs, \u001b[39m*\u001b[39;49m\u001b[39m*\u001b[39;49mkwargs)\n",
      "File \u001b[0;32m~/.local/lib/python3.10/site-packages/pandas/io/parsers/readers.py:680\u001b[0m, in \u001b[0;36mread_csv\u001b[0;34m(filepath_or_buffer, sep, delimiter, header, names, index_col, usecols, squeeze, prefix, mangle_dupe_cols, dtype, engine, converters, true_values, false_values, skipinitialspace, skiprows, skipfooter, nrows, na_values, keep_default_na, na_filter, verbose, skip_blank_lines, parse_dates, infer_datetime_format, keep_date_col, date_parser, dayfirst, cache_dates, iterator, chunksize, compression, thousands, decimal, lineterminator, quotechar, quoting, doublequote, escapechar, comment, encoding, encoding_errors, dialect, error_bad_lines, warn_bad_lines, on_bad_lines, delim_whitespace, low_memory, memory_map, float_precision, storage_options)\u001b[0m\n\u001b[1;32m    <a href='file:///home/henry/.local/lib/python3.10/site-packages/pandas/io/parsers/readers.py?line=664'>665</a>\u001b[0m kwds_defaults \u001b[39m=\u001b[39m _refine_defaults_read(\n\u001b[1;32m    <a href='file:///home/henry/.local/lib/python3.10/site-packages/pandas/io/parsers/readers.py?line=665'>666</a>\u001b[0m     dialect,\n\u001b[1;32m    <a href='file:///home/henry/.local/lib/python3.10/site-packages/pandas/io/parsers/readers.py?line=666'>667</a>\u001b[0m     delimiter,\n\u001b[0;32m   (...)\u001b[0m\n\u001b[1;32m    <a href='file:///home/henry/.local/lib/python3.10/site-packages/pandas/io/parsers/readers.py?line=675'>676</a>\u001b[0m     defaults\u001b[39m=\u001b[39m{\u001b[39m\"\u001b[39m\u001b[39mdelimiter\u001b[39m\u001b[39m\"\u001b[39m: \u001b[39m\"\u001b[39m\u001b[39m,\u001b[39m\u001b[39m\"\u001b[39m},\n\u001b[1;32m    <a href='file:///home/henry/.local/lib/python3.10/site-packages/pandas/io/parsers/readers.py?line=676'>677</a>\u001b[0m )\n\u001b[1;32m    <a href='file:///home/henry/.local/lib/python3.10/site-packages/pandas/io/parsers/readers.py?line=677'>678</a>\u001b[0m kwds\u001b[39m.\u001b[39mupdate(kwds_defaults)\n\u001b[0;32m--> <a href='file:///home/henry/.local/lib/python3.10/site-packages/pandas/io/parsers/readers.py?line=679'>680</a>\u001b[0m \u001b[39mreturn\u001b[39;00m _read(filepath_or_buffer, kwds)\n",
      "File \u001b[0;32m~/.local/lib/python3.10/site-packages/pandas/io/parsers/readers.py:581\u001b[0m, in \u001b[0;36m_read\u001b[0;34m(filepath_or_buffer, kwds)\u001b[0m\n\u001b[1;32m    <a href='file:///home/henry/.local/lib/python3.10/site-packages/pandas/io/parsers/readers.py?line=577'>578</a>\u001b[0m     \u001b[39mreturn\u001b[39;00m parser\n\u001b[1;32m    <a href='file:///home/henry/.local/lib/python3.10/site-packages/pandas/io/parsers/readers.py?line=579'>580</a>\u001b[0m \u001b[39mwith\u001b[39;00m parser:\n\u001b[0;32m--> <a href='file:///home/henry/.local/lib/python3.10/site-packages/pandas/io/parsers/readers.py?line=580'>581</a>\u001b[0m     \u001b[39mreturn\u001b[39;00m parser\u001b[39m.\u001b[39;49mread(nrows)\n",
      "File \u001b[0;32m~/.local/lib/python3.10/site-packages/pandas/io/parsers/readers.py:1254\u001b[0m, in \u001b[0;36mTextFileReader.read\u001b[0;34m(self, nrows)\u001b[0m\n\u001b[1;32m   <a href='file:///home/henry/.local/lib/python3.10/site-packages/pandas/io/parsers/readers.py?line=1251'>1252</a>\u001b[0m nrows \u001b[39m=\u001b[39m validate_integer(\u001b[39m\"\u001b[39m\u001b[39mnrows\u001b[39m\u001b[39m\"\u001b[39m, nrows)\n\u001b[1;32m   <a href='file:///home/henry/.local/lib/python3.10/site-packages/pandas/io/parsers/readers.py?line=1252'>1253</a>\u001b[0m \u001b[39mtry\u001b[39;00m:\n\u001b[0;32m-> <a href='file:///home/henry/.local/lib/python3.10/site-packages/pandas/io/parsers/readers.py?line=1253'>1254</a>\u001b[0m     index, columns, col_dict \u001b[39m=\u001b[39m \u001b[39mself\u001b[39;49m\u001b[39m.\u001b[39;49m_engine\u001b[39m.\u001b[39;49mread(nrows)\n\u001b[1;32m   <a href='file:///home/henry/.local/lib/python3.10/site-packages/pandas/io/parsers/readers.py?line=1254'>1255</a>\u001b[0m \u001b[39mexcept\u001b[39;00m \u001b[39mException\u001b[39;00m:\n\u001b[1;32m   <a href='file:///home/henry/.local/lib/python3.10/site-packages/pandas/io/parsers/readers.py?line=1255'>1256</a>\u001b[0m     \u001b[39mself\u001b[39m\u001b[39m.\u001b[39mclose()\n",
      "File \u001b[0;32m~/.local/lib/python3.10/site-packages/pandas/io/parsers/c_parser_wrapper.py:225\u001b[0m, in \u001b[0;36mCParserWrapper.read\u001b[0;34m(self, nrows)\u001b[0m\n\u001b[1;32m    <a href='file:///home/henry/.local/lib/python3.10/site-packages/pandas/io/parsers/c_parser_wrapper.py?line=222'>223</a>\u001b[0m \u001b[39mtry\u001b[39;00m:\n\u001b[1;32m    <a href='file:///home/henry/.local/lib/python3.10/site-packages/pandas/io/parsers/c_parser_wrapper.py?line=223'>224</a>\u001b[0m     \u001b[39mif\u001b[39;00m \u001b[39mself\u001b[39m\u001b[39m.\u001b[39mlow_memory:\n\u001b[0;32m--> <a href='file:///home/henry/.local/lib/python3.10/site-packages/pandas/io/parsers/c_parser_wrapper.py?line=224'>225</a>\u001b[0m         chunks \u001b[39m=\u001b[39m \u001b[39mself\u001b[39;49m\u001b[39m.\u001b[39;49m_reader\u001b[39m.\u001b[39;49mread_low_memory(nrows)\n\u001b[1;32m    <a href='file:///home/henry/.local/lib/python3.10/site-packages/pandas/io/parsers/c_parser_wrapper.py?line=225'>226</a>\u001b[0m         \u001b[39m# destructive to chunks\u001b[39;00m\n\u001b[1;32m    <a href='file:///home/henry/.local/lib/python3.10/site-packages/pandas/io/parsers/c_parser_wrapper.py?line=226'>227</a>\u001b[0m         data \u001b[39m=\u001b[39m _concatenate_chunks(chunks)\n",
      "File \u001b[0;32m~/.local/lib/python3.10/site-packages/pandas/_libs/parsers.pyx:805\u001b[0m, in \u001b[0;36mpandas._libs.parsers.TextReader.read_low_memory\u001b[0;34m()\u001b[0m\n",
      "File \u001b[0;32m~/.local/lib/python3.10/site-packages/pandas/_libs/parsers.pyx:883\u001b[0m, in \u001b[0;36mpandas._libs.parsers.TextReader._read_rows\u001b[0;34m()\u001b[0m\n",
      "File \u001b[0;32m~/.local/lib/python3.10/site-packages/pandas/_libs/parsers.pyx:1026\u001b[0m, in \u001b[0;36mpandas._libs.parsers.TextReader._convert_column_data\u001b[0;34m()\u001b[0m\n",
      "File \u001b[0;32m~/.local/lib/python3.10/site-packages/pandas/_libs/parsers.pyx:1072\u001b[0m, in \u001b[0;36mpandas._libs.parsers.TextReader._convert_tokens\u001b[0;34m()\u001b[0m\n",
      "File \u001b[0;32m~/.local/lib/python3.10/site-packages/pandas/_libs/parsers.pyx:1147\u001b[0m, in \u001b[0;36mpandas._libs.parsers.TextReader._convert_with_dtype\u001b[0;34m()\u001b[0m\n",
      "File \u001b[0;32m~/.local/lib/python3.10/site-packages/pandas/core/dtypes/common.py:1429\u001b[0m, in \u001b[0;36mis_extension_array_dtype\u001b[0;34m(arr_or_dtype)\u001b[0m\n\u001b[1;32m   <a href='file:///home/henry/.local/lib/python3.10/site-packages/pandas/core/dtypes/common.py?line=1419'>1420</a>\u001b[0m     \u001b[39m# Note: if other EA dtypes are ever held in HybridBlock, exclude those\u001b[39;00m\n\u001b[1;32m   <a href='file:///home/henry/.local/lib/python3.10/site-packages/pandas/core/dtypes/common.py?line=1420'>1421</a>\u001b[0m     \u001b[39m#  here too.\u001b[39;00m\n\u001b[1;32m   <a href='file:///home/henry/.local/lib/python3.10/site-packages/pandas/core/dtypes/common.py?line=1421'>1422</a>\u001b[0m     \u001b[39m# NB: need to check DatetimeTZDtype and not is_datetime64tz_dtype\u001b[39;00m\n\u001b[1;32m   <a href='file:///home/henry/.local/lib/python3.10/site-packages/pandas/core/dtypes/common.py?line=1422'>1423</a>\u001b[0m     \u001b[39m#  to exclude ArrowTimestampUSDtype\u001b[39;00m\n\u001b[1;32m   <a href='file:///home/henry/.local/lib/python3.10/site-packages/pandas/core/dtypes/common.py?line=1423'>1424</a>\u001b[0m     \u001b[39mreturn\u001b[39;00m \u001b[39misinstance\u001b[39m(dtype, ExtensionDtype) \u001b[39mand\u001b[39;00m \u001b[39mnot\u001b[39;00m \u001b[39misinstance\u001b[39m(\n\u001b[1;32m   <a href='file:///home/henry/.local/lib/python3.10/site-packages/pandas/core/dtypes/common.py?line=1424'>1425</a>\u001b[0m         dtype, (DatetimeTZDtype, PeriodDtype)\n\u001b[1;32m   <a href='file:///home/henry/.local/lib/python3.10/site-packages/pandas/core/dtypes/common.py?line=1425'>1426</a>\u001b[0m     )\n\u001b[0;32m-> <a href='file:///home/henry/.local/lib/python3.10/site-packages/pandas/core/dtypes/common.py?line=1428'>1429</a>\u001b[0m \u001b[39mdef\u001b[39;00m \u001b[39mis_extension_array_dtype\u001b[39m(arr_or_dtype) \u001b[39m-\u001b[39m\u001b[39m>\u001b[39m \u001b[39mbool\u001b[39m:\n\u001b[1;32m   <a href='file:///home/henry/.local/lib/python3.10/site-packages/pandas/core/dtypes/common.py?line=1429'>1430</a>\u001b[0m     \u001b[39m\"\"\"\u001b[39;00m\n\u001b[1;32m   <a href='file:///home/henry/.local/lib/python3.10/site-packages/pandas/core/dtypes/common.py?line=1430'>1431</a>\u001b[0m \u001b[39m    Check if an object is a pandas extension array type.\u001b[39;00m\n\u001b[1;32m   <a href='file:///home/henry/.local/lib/python3.10/site-packages/pandas/core/dtypes/common.py?line=1431'>1432</a>\u001b[0m \n\u001b[0;32m   (...)\u001b[0m\n\u001b[1;32m   <a href='file:///home/henry/.local/lib/python3.10/site-packages/pandas/core/dtypes/common.py?line=1471'>1472</a>\u001b[0m \u001b[39m    False\u001b[39;00m\n\u001b[1;32m   <a href='file:///home/henry/.local/lib/python3.10/site-packages/pandas/core/dtypes/common.py?line=1472'>1473</a>\u001b[0m \u001b[39m    \"\"\"\u001b[39;00m\n\u001b[1;32m   <a href='file:///home/henry/.local/lib/python3.10/site-packages/pandas/core/dtypes/common.py?line=1473'>1474</a>\u001b[0m     dtype \u001b[39m=\u001b[39m \u001b[39mgetattr\u001b[39m(arr_or_dtype, \u001b[39m\"\u001b[39m\u001b[39mdtype\u001b[39m\u001b[39m\"\u001b[39m, arr_or_dtype)\n",
      "\u001b[0;31mKeyboardInterrupt\u001b[0m: "
     ]
    }
   ],
   "source": [
    "training_sample = pd.read_csv(\"data_1.csv\")[[\"vendorid\", \"passenger_count\",\"trip_distance\", \"ratecodeid\", \"pulocationid\", \"dolocationid\", \"fare_amount\", \"extra\", \"mta_tax\",\"tip_amount\", \"tolls_amount\", \"improvement_surcharge\", \"total_amount\", \"payment_type\"]].sample(frac=1)\n",
    "payment = training_sample.pop(\"payment_type\")\n",
    "means = np.mean(training_sample.values, axis=0)\n",
    "std = np.std(training_sample.values, axis = 0)\n",
    "x_data = (training_sample.values - means)/std\n",
    "pd.DataFrame(np.hstack((x_data, np.array(payment).reshape(len(training_sample),1)))).to_csv(\"test_data_norm_1.csv\", header=False)\n",
    "training_sample = training_sample[:len(training_sample)//5]\n",
    "for i in range(2,13):\n",
    "    df = pd.read_csv(\"data_{}.csv\".format(i))[[\"vendorid\", \"passenger_count\",\"trip_distance\", \"ratecodeid\", \"pulocationid\", \"dolocationid\", \"fare_amount\", \"extra\", \"mta_tax\",\"tip_amount\", \"tolls_amount\", \"improvement_surcharge\", \"total_amount\", \"payment_type\"]].sample(frac=1)\n",
    "    payment = df.pop(\"payment_type\")\n",
    "    dat = df[len(df)//5:].values\n",
    "    means = np.mean(dat, axis=0)\n",
    "    std = np.std(dat, axis = 0)\n",
    "    x_data = (dat - means)/std\n",
    "    pd.DataFrame(np.hstack((x_data, np.array(payment).reshape(len(dat),1)))).to_csv(\"test_data_norm_1.csv\", header=False)\n",
    "    training_sample.append(df[:len(df)//5])\n",
    "    del df\n",
    "    gc.collect()"
   ]
  },
  {
   "cell_type": "code",
   "execution_count": 15,
   "metadata": {},
   "outputs": [],
   "source": [
    "\n",
    "for i in range(7,13):\n",
    "    df = pd.read_csv(\"data_{}.csv\".format(i))[[\"vendorid\", \"passenger_count\",\"trip_distance\", \"ratecodeid\", \"pulocationid\", \"dolocationid\", \"fare_amount\", \"extra\", \"mta_tax\",\"tip_amount\", \"tolls_amount\", \"improvement_surcharge\", \"total_amount\", \"payment_type\"]].sample(frac=1)\n",
    "    dat = df[len(df)//5:].values\n",
    "    dat = dat[~np.isnan(dat).any(axis=1), :]\n",
    "    means = np.mean(dat, axis=0)\n",
    "    std = np.std(dat, axis = 0)\n",
    "    x_data = (dat - means)/std\n",
    "    pd.DataFrame(x_data, columns=[\"vendorid\", \"passenger_count\",\"trip_distance\", \"ratecodeid\", \"pulocationid\", \"dolocationid\", \"fare_amount\", \"extra\", \"mta_tax\",\"tip_amount\", \"tolls_amount\", \"improvement_surcharge\", \"total_amount\", \"payment_type\"]).to_csv(\"test_data_norm_{}.csv\".format(i))\n",
    "    del df\n",
    "    gc.collect()"
   ]
  },
  {
   "cell_type": "code",
   "execution_count": 14,
   "metadata": {},
   "outputs": [
    {
     "name": "stdout",
     "output_type": "stream",
     "text": [
      "         vendorid  passenger_count  trip_distance  ratecodeid  pulocationid  \\\n",
      "0       -1.326009        -0.470985      -0.564567    -0.08173      1.131901   \n",
      "1       -1.326009        -0.470985      -0.340980    -0.08173      1.330119   \n",
      "2        0.722352        -0.470985      -0.492522    -0.08173      0.369524   \n",
      "3       -1.326009        -0.470985      -0.514881    -0.08173     -1.094240   \n",
      "4        0.722352        -0.470985      -0.529787    -0.08173     -1.429686   \n",
      "...           ...              ...            ...         ...           ...   \n",
      "5021147  0.722352        -0.470985      -0.219249    -0.08173     -1.261963   \n",
      "5021148  0.722352         0.352717      -0.231671    -0.08173     -0.331863   \n",
      "5021149  0.722352         0.352717      -0.124846    -0.08173     -0.697804   \n",
      "5021150 -1.326009        -0.470985      -0.365823    -0.08173     -1.094240   \n",
      "5021151  0.722352        -0.470985       0.061477    -0.08173      1.055663   \n",
      "\n",
      "         dolocationid  fare_amount     extra   mta_tax  tip_amount  \\\n",
      "0            1.099953    -0.613262  1.054923  0.086563   -0.763679   \n",
      "1           -1.641148    -0.229563  1.447474  0.086563   -0.067956   \n",
      "2           -0.670341    -0.536522 -0.907834  0.086563   -0.763679   \n",
      "3           -0.670341    -0.574892  1.054923  0.086563   -0.763679   \n",
      "4           -0.027896    -0.536522 -0.122731  0.086563   -0.154921   \n",
      "...               ...          ...       ...       ...         ...   \n",
      "5021147      0.143423     0.039027 -0.515282  0.086563    0.474708   \n",
      "5021148     -0.242044     0.115766 -0.907834  0.086563   -0.763679   \n",
      "5021149     -1.940956    -0.306302 -0.515282  0.086563    0.279906   \n",
      "5021150      0.143423    -0.344672  1.447474  0.086563   -0.318416   \n",
      "5021151     -1.712531     0.000657 -0.122731  0.086563    0.474708   \n",
      "\n",
      "         tolls_amount  improvement_surcharge  total_amount  payment_type  \n",
      "0           -0.208499               0.053622     -0.679013      1.423491  \n",
      "1           -0.208499               0.053622     -0.202940     -0.626629  \n",
      "2           -0.208499               0.053622     -0.615536      1.423491  \n",
      "3           -0.208499               0.053622     -0.647275      1.423491  \n",
      "4           -0.208499               0.053622     -0.440976     -0.626629  \n",
      "...               ...                    ...           ...           ...  \n",
      "5021147     -0.208499               0.053622      0.118251     -0.626629  \n",
      "5021148     -0.208499               0.053622     -0.075987      1.423491  \n",
      "5021149     -0.208499               0.053622     -0.361631     -0.626629  \n",
      "5021150     -0.208499               0.053622     -0.343857     -0.626629  \n",
      "5021151     -0.208499               0.053622      0.118251     -0.626629  \n",
      "\n",
      "[5021152 rows x 14 columns]\n"
     ]
    }
   ],
   "source": [
    "df = pd.read_csv(\"data_7.csv\")[[\"vendorid\", \"passenger_count\",\"trip_distance\", \"ratecodeid\", \"pulocationid\", \"dolocationid\", \"fare_amount\", \"extra\", \"mta_tax\",\"tip_amount\", \"tolls_amount\", \"improvement_surcharge\", \"total_amount\", \"payment_type\"]].sample(frac=1)\n",
    "dat = df[len(df)//5:].values\n",
    "dat = dat[~np.isnan(dat).any(axis=1), :]\n",
    "means = np.mean(dat, axis=0)\n",
    "std = np.std(dat, axis = 0)\n",
    "x_data = (dat - means)/std\n",
    "z = pd.DataFrame(x_data, columns=[\"vendorid\", \"passenger_count\",\"trip_distance\", \"ratecodeid\", \"pulocationid\", \"dolocationid\", \"fare_amount\", \"extra\", \"mta_tax\",\"tip_amount\", \"tolls_amount\", \"improvement_surcharge\", \"total_amount\", \"payment_type\"])\n",
    "print(z)"
   ]
  },
  {
   "cell_type": "code",
   "execution_count": 47,
   "metadata": {},
   "outputs": [],
   "source": [
    "x_data = training_sample[[\"vendorid\", \"passenger_count\",\"trip_distance\", \"ratecodeid\", \"pulocationid\", \"dolocationid\", \"fare_amount\", \"extra\", \"mta_tax\",\"tip_amount\", \"tolls_amount\", \"improvement_surcharge\", \"total_amount\"]].values\n",
    "y_data = training_sample[\"payment_type\"].values"
   ]
  },
  {
   "cell_type": "code",
   "execution_count": 35,
   "metadata": {},
   "outputs": [
    {
     "data": {
      "text/plain": [
       "1"
      ]
     },
     "execution_count": 35,
     "metadata": {},
     "output_type": "execute_result"
    }
   ],
   "source": [
    "len(y_data)"
   ]
  },
  {
   "cell_type": "code",
   "execution_count": 48,
   "metadata": {},
   "outputs": [],
   "source": [
    "means = np.mean(x_data, axis=0)\n",
    "std = np.std(x_data, axis = 0)\n",
    "x_data = (x_data - means)/std"
   ]
  },
  {
   "cell_type": "code",
   "execution_count": 37,
   "metadata": {},
   "outputs": [
    {
     "data": {
      "text/plain": [
       "13"
      ]
     },
     "execution_count": 37,
     "metadata": {},
     "output_type": "execute_result"
    }
   ],
   "source": [
    "len(std)"
   ]
  },
  {
   "cell_type": "code",
   "execution_count": 16,
   "metadata": {},
   "outputs": [
    {
     "ename": "NameError",
     "evalue": "name 'y_data' is not defined",
     "output_type": "error",
     "traceback": [
      "\u001b[0;31m---------------------------------------------------------------------------\u001b[0m",
      "\u001b[0;31mNameError\u001b[0m                                 Traceback (most recent call last)",
      "\u001b[1;32m/home/henry/work/school/cmsc12300/project/train_models.ipynb Cell 7'\u001b[0m in \u001b[0;36m<cell line: 1>\u001b[0;34m()\u001b[0m\n\u001b[0;32m----> <a href='vscode-notebook-cell:/home/henry/work/school/cmsc12300/project/train_models.ipynb#ch0000009?line=0'>1</a>\u001b[0m \u001b[39mprint\u001b[39m(y_data)\n",
      "\u001b[0;31mNameError\u001b[0m: name 'y_data' is not defined"
     ]
    }
   ],
   "source": [
    "print(y_data)"
   ]
  },
  {
   "cell_type": "code",
   "execution_count": 49,
   "metadata": {},
   "outputs": [
    {
     "ename": "ValueError",
     "evalue": "Unknown label type: 'continuous'",
     "output_type": "error",
     "traceback": [
      "\u001b[0;31m---------------------------------------------------------------------------\u001b[0m",
      "\u001b[0;31mValueError\u001b[0m                                Traceback (most recent call last)",
      "\u001b[1;32m/home/henry/work/school/cmsc12300/project/train_models.ipynb Cell 10'\u001b[0m in \u001b[0;36m<cell line: 2>\u001b[0;34m()\u001b[0m\n\u001b[1;32m      <a href='vscode-notebook-cell:/home/henry/work/school/cmsc12300/project/train_models.ipynb#ch0000004?line=0'>1</a>\u001b[0m z \u001b[39m=\u001b[39m []\n\u001b[1;32m      <a href='vscode-notebook-cell:/home/henry/work/school/cmsc12300/project/train_models.ipynb#ch0000004?line=1'>2</a>\u001b[0m \u001b[39mfor\u001b[39;00m i \u001b[39min\u001b[39;00m [\u001b[39m5\u001b[39m,\u001b[39m10\u001b[39m,\u001b[39m15\u001b[39m,\u001b[39m20\u001b[39m]:\n\u001b[0;32m----> <a href='vscode-notebook-cell:/home/henry/work/school/cmsc12300/project/train_models.ipynb#ch0000004?line=2'>3</a>\u001b[0m     model \u001b[39m=\u001b[39m KNeighborsClassifier(n_jobs\u001b[39m=\u001b[39;49m\u001b[39m-\u001b[39;49m\u001b[39m1\u001b[39;49m, n_neighbors\u001b[39m=\u001b[39;49mi)\u001b[39m.\u001b[39;49mfit(x_data, y_data)\n\u001b[1;32m      <a href='vscode-notebook-cell:/home/henry/work/school/cmsc12300/project/train_models.ipynb#ch0000004?line=3'>4</a>\u001b[0m     z\u001b[39m.\u001b[39mappend(model)\n\u001b[1;32m      <a href='vscode-notebook-cell:/home/henry/work/school/cmsc12300/project/train_models.ipynb#ch0000004?line=4'>5</a>\u001b[0m     file \u001b[39m=\u001b[39m \u001b[39mopen\u001b[39m(\u001b[39m\"\u001b[39m\u001b[39m{}\u001b[39;00m\u001b[39m_neighbors_model.obj\u001b[39m\u001b[39m\"\u001b[39m\u001b[39m.\u001b[39mformat(i),\u001b[39m\"\u001b[39m\u001b[39mwb\u001b[39m\u001b[39m\"\u001b[39m)\n",
      "File \u001b[0;32m~/.local/lib/python3.10/site-packages/sklearn/neighbors/_classification.py:200\u001b[0m, in \u001b[0;36mKNeighborsClassifier.fit\u001b[0;34m(self, X, y)\u001b[0m\n\u001b[1;32m    <a href='file:///home/henry/.local/lib/python3.10/site-packages/sklearn/neighbors/_classification.py?line=180'>181</a>\u001b[0m \u001b[39m\"\"\"Fit the k-nearest neighbors classifier from the training dataset.\u001b[39;00m\n\u001b[1;32m    <a href='file:///home/henry/.local/lib/python3.10/site-packages/sklearn/neighbors/_classification.py?line=181'>182</a>\u001b[0m \n\u001b[1;32m    <a href='file:///home/henry/.local/lib/python3.10/site-packages/sklearn/neighbors/_classification.py?line=182'>183</a>\u001b[0m \u001b[39mParameters\u001b[39;00m\n\u001b[0;32m   (...)\u001b[0m\n\u001b[1;32m    <a href='file:///home/henry/.local/lib/python3.10/site-packages/sklearn/neighbors/_classification.py?line=195'>196</a>\u001b[0m \u001b[39m    The fitted k-nearest neighbors classifier.\u001b[39;00m\n\u001b[1;32m    <a href='file:///home/henry/.local/lib/python3.10/site-packages/sklearn/neighbors/_classification.py?line=196'>197</a>\u001b[0m \u001b[39m\"\"\"\u001b[39;00m\n\u001b[1;32m    <a href='file:///home/henry/.local/lib/python3.10/site-packages/sklearn/neighbors/_classification.py?line=197'>198</a>\u001b[0m \u001b[39mself\u001b[39m\u001b[39m.\u001b[39mweights \u001b[39m=\u001b[39m _check_weights(\u001b[39mself\u001b[39m\u001b[39m.\u001b[39mweights)\n\u001b[0;32m--> <a href='file:///home/henry/.local/lib/python3.10/site-packages/sklearn/neighbors/_classification.py?line=199'>200</a>\u001b[0m \u001b[39mreturn\u001b[39;00m \u001b[39mself\u001b[39;49m\u001b[39m.\u001b[39;49m_fit(X, y)\n",
      "File \u001b[0;32m~/.local/lib/python3.10/site-packages/sklearn/neighbors/_base.py:429\u001b[0m, in \u001b[0;36mNeighborsBase._fit\u001b[0;34m(self, X, y)\u001b[0m\n\u001b[1;32m    <a href='file:///home/henry/.local/lib/python3.10/site-packages/sklearn/neighbors/_base.py?line=425'>426</a>\u001b[0m \u001b[39melse\u001b[39;00m:\n\u001b[1;32m    <a href='file:///home/henry/.local/lib/python3.10/site-packages/sklearn/neighbors/_base.py?line=426'>427</a>\u001b[0m     \u001b[39mself\u001b[39m\u001b[39m.\u001b[39moutputs_2d_ \u001b[39m=\u001b[39m \u001b[39mTrue\u001b[39;00m\n\u001b[0;32m--> <a href='file:///home/henry/.local/lib/python3.10/site-packages/sklearn/neighbors/_base.py?line=428'>429</a>\u001b[0m check_classification_targets(y)\n\u001b[1;32m    <a href='file:///home/henry/.local/lib/python3.10/site-packages/sklearn/neighbors/_base.py?line=429'>430</a>\u001b[0m \u001b[39mself\u001b[39m\u001b[39m.\u001b[39mclasses_ \u001b[39m=\u001b[39m []\n\u001b[1;32m    <a href='file:///home/henry/.local/lib/python3.10/site-packages/sklearn/neighbors/_base.py?line=430'>431</a>\u001b[0m \u001b[39mself\u001b[39m\u001b[39m.\u001b[39m_y \u001b[39m=\u001b[39m np\u001b[39m.\u001b[39mempty(y\u001b[39m.\u001b[39mshape, dtype\u001b[39m=\u001b[39m\u001b[39mint\u001b[39m)\n",
      "File \u001b[0;32m~/.local/lib/python3.10/site-packages/sklearn/utils/multiclass.py:200\u001b[0m, in \u001b[0;36mcheck_classification_targets\u001b[0;34m(y)\u001b[0m\n\u001b[1;32m    <a href='file:///home/henry/.local/lib/python3.10/site-packages/sklearn/utils/multiclass.py?line=191'>192</a>\u001b[0m y_type \u001b[39m=\u001b[39m type_of_target(y, input_name\u001b[39m=\u001b[39m\u001b[39m\"\u001b[39m\u001b[39my\u001b[39m\u001b[39m\"\u001b[39m)\n\u001b[1;32m    <a href='file:///home/henry/.local/lib/python3.10/site-packages/sklearn/utils/multiclass.py?line=192'>193</a>\u001b[0m \u001b[39mif\u001b[39;00m y_type \u001b[39mnot\u001b[39;00m \u001b[39min\u001b[39;00m [\n\u001b[1;32m    <a href='file:///home/henry/.local/lib/python3.10/site-packages/sklearn/utils/multiclass.py?line=193'>194</a>\u001b[0m     \u001b[39m\"\u001b[39m\u001b[39mbinary\u001b[39m\u001b[39m\"\u001b[39m,\n\u001b[1;32m    <a href='file:///home/henry/.local/lib/python3.10/site-packages/sklearn/utils/multiclass.py?line=194'>195</a>\u001b[0m     \u001b[39m\"\u001b[39m\u001b[39mmulticlass\u001b[39m\u001b[39m\"\u001b[39m,\n\u001b[0;32m   (...)\u001b[0m\n\u001b[1;32m    <a href='file:///home/henry/.local/lib/python3.10/site-packages/sklearn/utils/multiclass.py?line=197'>198</a>\u001b[0m     \u001b[39m\"\u001b[39m\u001b[39mmultilabel-sequences\u001b[39m\u001b[39m\"\u001b[39m,\n\u001b[1;32m    <a href='file:///home/henry/.local/lib/python3.10/site-packages/sklearn/utils/multiclass.py?line=198'>199</a>\u001b[0m ]:\n\u001b[0;32m--> <a href='file:///home/henry/.local/lib/python3.10/site-packages/sklearn/utils/multiclass.py?line=199'>200</a>\u001b[0m     \u001b[39mraise\u001b[39;00m \u001b[39mValueError\u001b[39;00m(\u001b[39m\"\u001b[39m\u001b[39mUnknown label type: \u001b[39m\u001b[39m%r\u001b[39;00m\u001b[39m\"\u001b[39m \u001b[39m%\u001b[39m y_type)\n",
      "\u001b[0;31mValueError\u001b[0m: Unknown label type: 'continuous'"
     ]
    }
   ],
   "source": [
    "z = []\n",
    "for i in [5,10,15,20]:\n",
    "    model = KNeighborsClassifier(n_jobs=-1, n_neighbors=i).fit(x_data, y_data)\n",
    "    z.append(model)\n",
    "    file = open(\"{}_neighbors_model.obj\".format(i),\"wb\")\n",
    "    pickle.dump(model,file)\n",
    "    file.close()\n",
    "    "
   ]
  },
  {
   "cell_type": "code",
   "execution_count": 51,
   "metadata": {},
   "outputs": [
    {
     "name": "stdout",
     "output_type": "stream",
     "text": [
      "[[ 0.67487452 -0.4632077  -0.67354415 ... -0.18150851  0.03467353\n",
      "  -0.22056521]\n",
      " [-1.17864215  0.35389251 -0.29186157 ... -0.18150851  0.03467353\n",
      "  -0.15388562]\n",
      " [-1.17864215  0.35389251 -0.39788451 ... -0.18150851  0.03467353\n",
      "  -0.16405708]\n",
      " ...\n",
      " [ 0.67487452  0.35389251  0.0818693  ... -0.18150851  0.03467353\n",
      "   0.03620773]\n",
      " [ 0.67487452 -0.4632077  -0.61258096 ... -0.18150851  0.03467353\n",
      "  -0.1877905 ]\n",
      " [-1.17864215 -0.4632077  -0.63643612 ... -0.18150851  0.03467353\n",
      "  -0.23525733]]\n"
     ]
    }
   ],
   "source": [
    "print(x_data)"
   ]
  },
  {
   "cell_type": "code",
   "execution_count": 9,
   "metadata": {},
   "outputs": [
    {
     "data": {
      "text/plain": [
       "13"
      ]
     },
     "execution_count": 9,
     "metadata": {},
     "output_type": "execute_result"
    }
   ],
   "source": [
    "object.score(array, a)"
   ]
  },
  {
   "cell_type": "code",
   "execution_count": 10,
   "metadata": {},
   "outputs": [
    {
     "data": {
      "text/plain": [
       "13"
      ]
     },
     "execution_count": 10,
     "metadata": {},
     "output_type": "execute_result"
    }
   ],
   "source": [
    "f = open(\"5_neighbors_model.obj\",\"rb\")\n",
    "ob = pickle.load(f)\n",
    "f.close()\n",
    "ob.n_features_in_"
   ]
  }
 ],
 "metadata": {
  "interpreter": {
   "hash": "916dbcbb3f70747c44a77c7bcd40155683ae19c65e1c03b4aa3499c5328201f1"
  },
  "kernelspec": {
   "display_name": "Python 3.10.4 64-bit",
   "language": "python",
   "name": "python3"
  },
  "language_info": {
   "codemirror_mode": {
    "name": "ipython",
    "version": 3
   },
   "file_extension": ".py",
   "mimetype": "text/x-python",
   "name": "python",
   "nbconvert_exporter": "python",
   "pygments_lexer": "ipython3",
   "version": "3.10.4"
  },
  "orig_nbformat": 4
 },
 "nbformat": 4,
 "nbformat_minor": 2
}

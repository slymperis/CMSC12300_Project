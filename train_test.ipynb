{
 "cells": [
  {
   "cell_type": "code",
   "execution_count": 6,
   "metadata": {},
   "outputs": [],
   "source": [
    "import pandas as pd\n",
    "import numpy as np\n",
    "from sklearn.neighbors import KNeighborsClassifier\n",
    "import sqlite3\n",
    "from sklearn.metrics import confusion_matrix\n",
    "import gc"
   ]
  },
  {
   "cell_type": "code",
   "execution_count": 2,
   "metadata": {},
   "outputs": [],
   "source": [
    "for i in range(1,11):\n",
    "    gc.collect()\n",
    "    cur1 = sqlite3.connect(\"2019-0{}.sqlite\".format(i))\n",
    "    init_agg_df = pd.read_sql_query(\"SELECT vendorid, passenger_count,trip_distance, ratecodeid, pulocationid, dolocationid, fare_amount, extra, mta_tax,tip_amount, tolls_amount, improvement_surcharge, total_amount, congestion_surcharge, payment_type FROM tripdata\", cur1)\n",
    "    init_agg_df.to_csv(\"data_{}.csv\".format(i))\n",
    "    del init_agg_df"
   ]
  },
  {
   "cell_type": "code",
   "execution_count": 5,
   "metadata": {},
   "outputs": [
    {
     "name": "stdout",
     "output_type": "stream",
     "text": [
      "1\n",
      "2\n",
      "3\n",
      "4\n",
      "5\n",
      "6\n",
      "7\n",
      "8\n",
      "9\n",
      "10\n"
     ]
    }
   ],
   "source": [
    "\n"
   ]
  },
  {
   "cell_type": "code",
   "execution_count": null,
   "metadata": {},
   "outputs": [],
   "source": []
  },
  {
   "cell_type": "code",
   "execution_count": 3,
   "metadata": {},
   "outputs": [],
   "source": [
    "y_data = init_agg_df[\"payment_type\"].values\n",
    "init_agg_df = init_agg_df[[\"vendorid\", \"passenger_count\",\"trip_distance\", \"ratecodeid\", \"pulocationid\", \"dolocationid\", \"fare_amount\", \"extra\", \"mta_tax\",\"tip_amount\", \"tolls_amount\", \"improvement_surcharge\", \"total_amount\", \"congestion_surcharge\"]].values"
   ]
  },
  {
   "cell_type": "code",
   "execution_count": 4,
   "metadata": {},
   "outputs": [],
   "source": [
    "means = np.mean(init_agg_df, axis=0)\n",
    "std = np.std(init_agg_df, axis = 0)\n",
    "init_agg_df = (init_agg_df - means)/std"
   ]
  },
  {
   "cell_type": "code",
   "execution_count": 5,
   "metadata": {},
   "outputs": [],
   "source": [
    "init_agg_df = init_agg_df[:,:-1]"
   ]
  },
  {
   "cell_type": "code",
   "execution_count": 6,
   "metadata": {},
   "outputs": [],
   "source": [
    "train_data_x = init_agg_df[:7000000,:]\n",
    "train_data_y = y_data[:7000000]\n",
    "test_data_x = init_agg_df[7000000:,:]\n",
    "test_data_y = y_data[7000000:]"
   ]
  },
  {
   "cell_type": "code",
   "execution_count": 7,
   "metadata": {},
   "outputs": [],
   "source": [
    "model = KNeighborsClassifier(n_jobs=-1, n_neighbors=8).fit(train_data_x, train_data_y)"
   ]
  },
  {
   "cell_type": "code",
   "execution_count": 14,
   "metadata": {},
   "outputs": [
    {
     "data": {
      "text/plain": [
       "0.9703290845053549"
      ]
     },
     "execution_count": 14,
     "metadata": {},
     "output_type": "execute_result"
    }
   ],
   "source": [
    "model.score(test_data_x, test_data_y)"
   ]
  },
  {
   "cell_type": "code",
   "execution_count": 15,
   "metadata": {},
   "outputs": [
    {
     "name": "stdout",
     "output_type": "stream",
     "text": [
      "{1.0, 2.0, 3.0, 4.0}\n"
     ]
    }
   ],
   "source": [
    "print(set(train_data_y.flatten().tolist()))"
   ]
  },
  {
   "cell_type": "code",
   "execution_count": 8,
   "metadata": {},
   "outputs": [
    {
     "name": "stdout",
     "output_type": "stream",
     "text": [
      "[[489987  14782     14      1]\n",
      " [  1835 157449    190     19]\n",
      " [    66   2098    493     60]\n",
      " [    18    553    178     49]]\n"
     ]
    }
   ],
   "source": [
    "print(confusion_matrix(test_data_y, model.predict(test_data_x)))"
   ]
  }
 ],
 "metadata": {
  "interpreter": {
   "hash": "916dbcbb3f70747c44a77c7bcd40155683ae19c65e1c03b4aa3499c5328201f1"
  },
  "kernelspec": {
   "display_name": "Python 3.10.4 64-bit",
   "language": "python",
   "name": "python3"
  },
  "language_info": {
   "codemirror_mode": {
    "name": "ipython",
    "version": 3
   },
   "file_extension": ".py",
   "mimetype": "text/x-python",
   "name": "python",
   "nbconvert_exporter": "python",
   "pygments_lexer": "ipython3",
   "version": "3.10.4"
  },
  "orig_nbformat": 4
 },
 "nbformat": 4,
 "nbformat_minor": 2
}
